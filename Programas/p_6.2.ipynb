{
 "cells": [
  {
   "attachments": {},
   "cell_type": "markdown",
   "metadata": {},
   "source": [
    "#### Programa 6.2 - Cálculo da média com notas digitadas"
   ]
  },
  {
   "cell_type": "code",
   "execution_count": null,
   "metadata": {},
   "outputs": [],
   "source": [
    "notas = [0, 0, 0, 0, 0]\n",
    "soma = 0\n",
    "x = 0\n",
    "\n",
    "while x < 5:\n",
    "    notas[x] = float(input(f'Nota {x}: '))\n",
    "    soma += notas[x]\n",
    "    x += 1\n",
    "x = 0\n",
    "while x < 5:\n",
    "    print(f'Nota {x}: {notas[x]:6.2f}')\n",
    "    x += 1\n",
    "print(f'Média: {soma / x:5.2f}')"
   ]
  }
 ],
 "metadata": {
  "kernelspec": {
   "display_name": "Python 3",
   "language": "python",
   "name": "python3"
  },
  "language_info": {
   "codemirror_mode": {
    "name": "ipython",
    "version": 3
   },
   "file_extension": ".py",
   "mimetype": "text/x-python",
   "name": "python",
   "nbconvert_exporter": "python",
   "pygments_lexer": "ipython3",
   "version": "3.11.2"
  },
  "orig_nbformat": 4
 },
 "nbformat": 4,
 "nbformat_minor": 2
}
