{
 "cells": [
  {
   "cell_type": "code",
   "execution_count": null,
   "metadata": {},
   "outputs": [],
   "source": [
    "#Simulação de uma fila de banco\n",
    "ultimo = 10\n",
    "fila = list(range(1, ultimo + 1))\n",
    "\n",
    "while True:\n",
    "    print(f'Existem {len(fila)} clientes na fila.')\n",
    "    print(f'Fila atual: {fila}.')\n",
    "    print('Digite F para adicionar um cliente ao final da fila.')\n",
    "    print('Ou A para realizar o atendimento. S para sair')\n",
    "    operacao = input('Operação (F, A ou S): ')\n",
    "\n",
    "    if operacao == 'A':\n",
    "        if len(fila) > 0:\n",
    "            atendido = fila.pop(0)\n",
    "            print(f'Cliente {atendido} atendido.')\n",
    "        else:\n",
    "            print('Fila vazia! Ninguém para atender.')\n",
    "    elif operacao == 'F':\n",
    "        ultimo += 1 # incremento do ticket do novo cliente\n",
    "        fila.append(ultimo)\n",
    "    elif operacao == 'S':\n",
    "        break\n",
    "    else:\n",
    "        print('Operação inválida! Digite apensas F, A ou S!')"
   ]
  }
 ],
 "metadata": {
  "kernelspec": {
   "display_name": "base",
   "language": "python",
   "name": "python3"
  },
  "language_info": {
   "codemirror_mode": {
    "name": "ipython",
    "version": 3
   },
   "file_extension": ".py",
   "mimetype": "text/x-python",
   "name": "python",
   "nbconvert_exporter": "python",
   "pygments_lexer": "ipython3",
   "version": "3.11.2"
  },
  "orig_nbformat": 4
 },
 "nbformat": 4,
 "nbformat_minor": 2
}
