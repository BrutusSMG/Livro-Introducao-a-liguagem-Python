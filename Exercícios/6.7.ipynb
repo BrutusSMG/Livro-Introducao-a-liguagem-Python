{
 "cells": [
  {
   "attachments": {},
   "cell_type": "markdown",
   "metadata": {},
   "source": [
    "#### Faça um programa que leia uma expressão com parênteses. Usando pilhas, verifique se os parênteses foram aberto e fechados na ordem correta.\n",
    "#### Ex.: \n",
    "- (())          OK\n",
    "- ()()(()())    OK\n",
    "- ())           Erro\n",
    "\n",
    "##### Você pode adicionar elementos à pilha sempre que encontrar abre parênteses e desempilhá-las a cada fecha parênteses. Ao desempilhar, verifique se o topo da pilha é um abre parênteses. Se a expressão estiver correta, sua pilha estará vazia no final."
   ]
  },
  {
   "cell_type": "code",
   "execution_count": 56,
   "metadata": {},
   "outputs": [
    {
     "name": "stdout",
     "output_type": "stream",
     "text": [
      "OK\n"
     ]
    }
   ],
   "source": [
    "expressao = input('Informe uma sequência de parenteses: ')\n",
    "pilha = []\n",
    "abre = 0\n",
    "saida = 'OK'\n",
    "\n",
    "while abre < len(expressao):\n",
    "\n",
    "    if expressao[abre] == '(':\n",
    "        pilha.append(expressao[abre])\n",
    "\n",
    "    elif expressao[abre] == ')' and len(pilha) != 0:\n",
    "            pilha.pop()\n",
    "            \n",
    "    elif expressao[abre] == ')' and len(pilha) == 0:\n",
    "         saida = 'Erro'\n",
    "         \n",
    "    abre += 1\n",
    "    \n",
    "if len(pilha) == 0:\n",
    "    print(saida)\n",
    "\n",
    "else:\n",
    "     saida = 'Erro'\n",
    "     print(saida)"
   ]
  }
 ],
 "metadata": {
  "kernelspec": {
   "display_name": "Python 3",
   "language": "python",
   "name": "python3"
  },
  "language_info": {
   "codemirror_mode": {
    "name": "ipython",
    "version": 3
   },
   "file_extension": ".py",
   "mimetype": "text/x-python",
   "name": "python",
   "nbconvert_exporter": "python",
   "pygments_lexer": "ipython3",
   "version": "3.11.2"
  },
  "orig_nbformat": 4
 },
 "nbformat": 4,
 "nbformat_minor": 2
}
