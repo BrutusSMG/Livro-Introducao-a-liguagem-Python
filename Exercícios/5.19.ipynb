{
 "cells": [
  {
   "attachments": {},
   "cell_type": "markdown",
   "metadata": {},
   "source": [
    "#### Modifique o programa para aceitar valores decimais, ou seja, também contar moedas de 0.01, 0.02, 0.05, 0.10 e 0.50.\n",
    "\n",
    "### *REVISAR*"
   ]
  },
  {
   "cell_type": "code",
   "execution_count": null,
   "metadata": {},
   "outputs": [],
   "source": [
    "valor = float(input('Digite o valor a pagar: '))\n",
    "cedulas = 0\n",
    "atual = 100.0\n",
    "a_pagar = valor\n",
    "while True:    \n",
    "    if atual <= a_pagar:\n",
    "        a_pagar -= atual\n",
    "        cedulas += 1\n",
    "    else:\n",
    "        if a_pagar >= 1:\n",
    "            print(f'{cedulas} cédula(s) de R${atual:.2f}')\n",
    "        else:\n",
    "            print(f'{cedulas} moeda(s) de R${atual:.2f}')\n",
    "        if a_pagar < 0.01:\n",
    "            break\n",
    "        if atual == 100:\n",
    "            atual = 50\n",
    "        elif atual == 50:\n",
    "            atual = 20\n",
    "        elif atual == 20:\n",
    "            atual = 10\n",
    "        elif atual == 10:\n",
    "            atual = 5\n",
    "        elif atual == 5:\n",
    "            atual = 1\n",
    "        elif atual == 1:\n",
    "            atual = 0.50\n",
    "        elif atual == 0.50:\n",
    "            atual = 0.10\n",
    "        elif atual == 0.10:\n",
    "            atual = 0.05\n",
    "        elif atual == 0.05:\n",
    "            atual = 0.02\n",
    "        elif atual == 0.02:\n",
    "            atual = 0.01\n",
    "        elif atual <= 0.01:\n",
    "            atual = 0.01\n",
    "        cedulas = 0\n"
   ]
  }
 ],
 "metadata": {
  "kernelspec": {
   "display_name": "base",
   "language": "python",
   "name": "python3"
  },
  "language_info": {
   "codemirror_mode": {
    "name": "ipython",
    "version": 3
   },
   "file_extension": ".py",
   "mimetype": "text/x-python",
   "name": "python",
   "nbconvert_exporter": "python",
   "pygments_lexer": "ipython3",
   "version": "3.9.13"
  },
  "orig_nbformat": 4
 },
 "nbformat": 4,
 "nbformat_minor": 2
}
