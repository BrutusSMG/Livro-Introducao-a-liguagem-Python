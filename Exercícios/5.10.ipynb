{
 "cells": [
  {
   "attachments": {},
   "cell_type": "markdown",
   "metadata": {},
   "source": [
    "### Fazer um programa para corrigir um teste de múltipla escolha com três questões. A resposta da primeira é 'b'; da segunda é 'a'; e da terceira é 'c'."
   ]
  },
  {
   "cell_type": "code",
   "execution_count": null,
   "metadata": {},
   "outputs": [],
   "source": [
    "pontos = 0\n",
    "questao = 1\n",
    "while questao <= 3:\n",
    "    resposta = input(f'Resposta da questão {questao}')\n",
    "    if questao == 1 and resposta == 'b' or resposta == 'B':\n",
    "        pontos += 1\n",
    "    if questao == 2 and resposta == 'a' or resposta == 'A':\n",
    "        pontos += 1\n",
    "    if questao == 3 and resposta == 'c' or resposta == 'C':\n",
    "        pontos += 1\n",
    "    questao += 1\n",
    "print(f'O aluno fez {pontos} ponto(s).')"
   ]
  }
 ],
 "metadata": {
  "kernelspec": {
   "display_name": "base",
   "language": "python",
   "name": "python3"
  },
  "language_info": {
   "codemirror_mode": {
    "name": "ipython",
    "version": 3
   },
   "file_extension": ".py",
   "mimetype": "text/x-python",
   "name": "python",
   "nbconvert_exporter": "python",
   "pygments_lexer": "ipython3",
   "version": "3.9.13"
  },
  "orig_nbformat": 4
 },
 "nbformat": 4,
 "nbformat_minor": 2
}
