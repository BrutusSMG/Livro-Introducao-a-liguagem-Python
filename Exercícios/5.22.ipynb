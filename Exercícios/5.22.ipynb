{
 "cells": [
  {
   "attachments": {},
   "cell_type": "markdown",
   "metadata": {},
   "source": [
    "#### Escreva um programa que exiba uma lista de opções (menu): adicão, subtração, divisão, multiplicação e sair. Imprima a tabuada da operação escolhida. Repita até que a opção saída seja escolhida."
   ]
  },
  {
   "cell_type": "code",
   "execution_count": null,
   "metadata": {},
   "outputs": [],
   "source": [
    "while True:    \n",
    "    print( \"\"\"\n",
    "Escolha o número do menu abaixo:\n",
    "1 - Adição\n",
    "2 - Subtração\n",
    "3 - Divisão\n",
    "4 - Multiplicação\n",
    "5 - Sair\n",
    "\"\"\")\n",
    "    menu = int(input('Opção desejada: '))\n",
    "    selecao = f'Selecionado a opção {menu} '\n",
    "    if 1 <= menu <= 5:\n",
    "        if menu == 5:\n",
    "            print(selecao + '- Sair.')\n",
    "            break\n",
    "        num_1 = int(input('Tabuada de que número: '))\n",
    "        num_2 = 0\n",
    "        if menu == 1:\n",
    "            print(selecao + '- Adição:')\n",
    "            while num_2 <= 10:\n",
    "                print(f'{num_1} + {num_2} = {num_1 + num_2}')\n",
    "                num_2 += 1                \n",
    "\n",
    "        elif menu == 2:\n",
    "            print(selecao + '- Subtração:')\n",
    "            while num_2 <= 10:\n",
    "                print(f'{num_1} - {num_2} = {num_1 - num_2}')\n",
    "                num_2 += 1\n",
    "\n",
    "        elif menu == 3:\n",
    "            num_2 = 1\n",
    "            print(selecao + '- Divisão')\n",
    "            while num_2 <= 10:\n",
    "                print(f'{num_1} / {num_2} = {num_1 / num_2}')\n",
    "                num_2 += 1\n",
    "\n",
    "        elif menu == 4:\n",
    "            num_2 = 1  \n",
    "            print(selecao + '- Multiplicação:')         \n",
    "            while num_2 <= 10:\n",
    "                print(f'{num_1} x {num_2} = {num_1 * num_2}')\n",
    "                num_2 += 1\n",
    "    else:\n",
    "        print('Informe uma opção válida!')"
   ]
  }
 ],
 "metadata": {
  "kernelspec": {
   "display_name": "base",
   "language": "python",
   "name": "python3"
  },
  "language_info": {
   "codemirror_mode": {
    "name": "ipython",
    "version": 3
   },
   "file_extension": ".py",
   "mimetype": "text/x-python",
   "name": "python",
   "nbconvert_exporter": "python",
   "pygments_lexer": "ipython3",
   "version": "3.9.13"
  },
  "orig_nbformat": 4
 },
 "nbformat": 4,
 "nbformat_minor": 2
}
