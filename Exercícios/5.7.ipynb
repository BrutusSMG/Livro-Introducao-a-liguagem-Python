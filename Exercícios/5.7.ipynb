{
 "cells": [
  {
   "attachments": {},
   "cell_type": "markdown",
   "metadata": {},
   "source": [
    "# Modifique o programa anterior de forma que o usuário também digite o início e o fim da tabuada, em vez de começar com 1 e terminar com 10."
   ]
  },
  {
   "cell_type": "code",
   "execution_count": null,
   "metadata": {},
   "outputs": [],
   "source": [
    "fator_1 = int(input('Informe o número de início da tabuada: '))\n",
    "fator_2 = int(input('Informe o número final da tabuada: '))\n",
    "num_1 = 1\n",
    "while fator_1 <= fator_2:\n",
    "    print('')\n",
    "    print('Tabuada de', fator_1)\n",
    "    num_1 = 1\n",
    "    while num_1 <= 10:\n",
    "        print(fator_1, 'x', num_1, '=', fator_1 * num_1)\n",
    "        num_1 = num_1 + 1\n",
    "    fator_1 = fator_1 + 1"
   ]
  }
 ],
 "metadata": {
  "kernelspec": {
   "display_name": "base",
   "language": "python",
   "name": "python3"
  },
  "language_info": {
   "codemirror_mode": {
    "name": "ipython",
    "version": 3
   },
   "file_extension": ".py",
   "mimetype": "text/x-python",
   "name": "python",
   "nbconvert_exporter": "python",
   "pygments_lexer": "ipython3",
   "version": "3.9.13"
  },
  "orig_nbformat": 4
 },
 "nbformat": 4,
 "nbformat_minor": 2
}
