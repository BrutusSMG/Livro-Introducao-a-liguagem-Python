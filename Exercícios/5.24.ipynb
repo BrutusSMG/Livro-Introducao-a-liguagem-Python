{
 "cells": [
  {
   "attachments": {},
   "cell_type": "markdown",
   "metadata": {},
   "source": [
    "#### Modifique o programa anterior de forma a ler um número n. Imprima os n primeiros números primos."
   ]
  },
  {
   "cell_type": "code",
   "execution_count": 6,
   "metadata": {},
   "outputs": [
    {
     "name": "stdout",
     "output_type": "stream",
     "text": [
      "[]\n"
     ]
    }
   ],
   "source": [
    "qtd = int(input('Informe um número: '))\n",
    "lista = []\n",
    "numero = 2\n",
    "while len(lista) < qtd:\n",
    "    divisor = 1\n",
    "    divisores = []\n",
    "    while divisor <= numero:        \n",
    "        if numero % divisor == 0:\n",
    "            divisores.append(numero)\n",
    "        divisor += 1\n",
    "    if len(divisores) == 2:\n",
    "        lista.append(divisores[0])   \n",
    "    numero += 1\n",
    "print(lista)"
   ]
  }
 ],
 "metadata": {
  "kernelspec": {
   "display_name": "Python 3",
   "language": "python",
   "name": "python3"
  },
  "language_info": {
   "codemirror_mode": {
    "name": "ipython",
    "version": 3
   },
   "file_extension": ".py",
   "mimetype": "text/x-python",
   "name": "python",
   "nbconvert_exporter": "python",
   "pygments_lexer": "ipython3",
   "version": "3.11.2"
  },
  "orig_nbformat": 4
 },
 "nbformat": 4,
 "nbformat_minor": 2
}
