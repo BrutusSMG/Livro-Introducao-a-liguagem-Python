{
 "cells": [
  {
   "attachments": {},
   "cell_type": "markdown",
   "metadata": {},
   "source": [
    "# Altere o exercício anterior para exibir os resultados no mesmo formato de uma tabuada: 2 x 1 = 2, 2 x 2 = 4, ..."
   ]
  },
  {
   "cell_type": "code",
   "execution_count": null,
   "metadata": {},
   "outputs": [],
   "source": [
    "fator_1 = 1\n",
    "fator_2 = 0\n",
    "while fator_1 <= 10:\n",
    "    print('')\n",
    "    print('Tabuada de', fator_1)\n",
    "    fator_2 = 0\n",
    "    while fator_2 <= 10:\n",
    "        print(fator_1, 'x', fator_2, '=', fator_1 * fator_2)\n",
    "        fator_2 = fator_2 + 1\n",
    "    fator_1 = fator_1 + 1"
   ]
  }
 ],
 "metadata": {
  "kernelspec": {
   "display_name": "base",
   "language": "python",
   "name": "python3"
  },
  "language_info": {
   "codemirror_mode": {
    "name": "ipython",
    "version": 3
   },
   "file_extension": ".py",
   "mimetype": "text/x-python",
   "name": "python",
   "nbconvert_exporter": "python",
   "pygments_lexer": "ipython3",
   "version": "3.9.13"
  },
  "orig_nbformat": 4
 },
 "nbformat": 4,
 "nbformat_minor": 2
}
