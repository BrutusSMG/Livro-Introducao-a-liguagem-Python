{
 "cells": [
  {
   "attachments": {},
   "cell_type": "markdown",
   "metadata": {},
   "source": [
    "#### Altere o programa 6.7 de forma a poder trabalhar com vários comandos digitados de uma só vez. Atualemte, apenas um comando pode ser inserido por vez. Altere-o de forma a considerar operação como uma string.\n",
    "#### Exemplo: FFFAAAS significa 3 chegadas de novos clientes, 3 atendimentos e finalmente, a saída do programa."
   ]
  },
  {
   "cell_type": "code",
   "execution_count": null,
   "metadata": {},
   "outputs": [],
   "source": [
    "ultimo = 10 #Último da fila: número 10\n",
    "fila = list(range(1,ultimo + 1)) # Fila com 10 pessoas\n",
    "sair = not False\n",
    "while sair:\n",
    "    print(f'Clientes na fila: {len(fila)}.')\n",
    "    print(f'Fila atual: {fila}')\n",
    "    print(f'Digite F para entrar na fila. A atendido e S para sair')\n",
    "    operacao = list(input('Digite a sequência de atendimento: ')) # Entrada com a sequencia de comandos\n",
    "    contador = 0\n",
    "\n",
    "    while contador < len(operacao):\n",
    "        if operacao[contador] == 'A':\n",
    "            if len(fila) > 0:\n",
    "                atendido = fila.pop(0)\n",
    "                print(f'Cliente {atendido} atendido.')\n",
    "            else:\n",
    "                print('Fila vazia.')\n",
    "        elif operacao[contador] == 'F':            \n",
    "            ultimo += 1            \n",
    "            fila.append(ultimo)\n",
    "            print(f'Cliente {fila[ultimo-1]} entrou na fila.')\n",
    "        elif operacao[contador] == 'S':\n",
    "            print('Saindo...')\n",
    "            sair = not True\n",
    "        else:\n",
    "            print('Operação inválida!')\n",
    "        contador += 1\n",
    "    print(f'Fila: {fila}')"
   ]
  }
 ],
 "metadata": {
  "kernelspec": {
   "display_name": "base",
   "language": "python",
   "name": "python3"
  },
  "language_info": {
   "codemirror_mode": {
    "name": "ipython",
    "version": 3
   },
   "file_extension": ".py",
   "mimetype": "text/x-python",
   "name": "python",
   "nbconvert_exporter": "python",
   "pygments_lexer": "ipython3",
   "version": "3.9.13"
  },
  "orig_nbformat": 4
 },
 "nbformat": 4,
 "nbformat_minor": 2
}
