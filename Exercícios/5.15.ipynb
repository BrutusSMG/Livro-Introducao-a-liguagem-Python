{
 "cells": [
  {
   "attachments": {},
   "cell_type": "markdown",
   "metadata": {},
   "source": [
    "#### Escreva um programa para controlar uma pequena máquina registradora. Você deve solicitar ao usuário que digite o código do produto e a quantidade comprada. Utilize a tabela de código a seguir para obter o preço de cada produto:\n",
    "- Código        - Preço\n",
    "- 1             - 0,50\n",
    "- 2             - 1,00\n",
    "- 3             - 4,00\n",
    "- 5             - 7,00\n",
    "- 9             - 8,00\n",
    "\n",
    "#### Seu programa deve exibir o total das compras depois que o usuário digitar 0. Qualquer outro código deve gerar a mensagem de erro \"Código inválido\""
   ]
  },
  {
   "cell_type": "code",
   "execution_count": null,
   "metadata": {},
   "outputs": [],
   "source": [
    "soma = 0\n",
    "while True:\n",
    "    codigo_produto = int(input('Informe o código do produto ou 0 (zero) para finalizar: '))    \n",
    "    if codigo_produto == 0:\n",
    "        print(f'\\nTotal: R$ {soma:5.2f}')\n",
    "        break\n",
    "    quantidade = int(input(f'Quantidade do produto {codigo_produto}: '))\n",
    "    if codigo_produto == 1:\n",
    "        subtotal = quantidade * 0.50\n",
    "        soma += subtotal\n",
    "    elif codigo_produto == 2:\n",
    "        subtotal = quantidade * 1.00\n",
    "        soma += subtotal\n",
    "    elif codigo_produto == 3:\n",
    "        subtotal = quantidade * 4.00\n",
    "        soma += subtotal\n",
    "    elif codigo_produto == 5:\n",
    "        subtotal = quantidade * 7.00\n",
    "        soma += subtotal\n",
    "    elif codigo_produto == 9:\n",
    "        subtotal = quantidade * 8.00\n",
    "        soma += subtotal\n",
    "    else:\n",
    "        print('Código inválido!')\n",
    "        continue\n",
    "    print(f'Produto {codigo_produto} x quantidade: {quantidade} = R$ {subtotal:5.2f}')"
   ]
  }
 ],
 "metadata": {
  "kernelspec": {
   "display_name": "base",
   "language": "python",
   "name": "python3"
  },
  "language_info": {
   "codemirror_mode": {
    "name": "ipython",
    "version": 3
   },
   "file_extension": ".py",
   "mimetype": "text/x-python",
   "name": "python",
   "nbconvert_exporter": "python",
   "pygments_lexer": "ipython3",
   "version": "3.9.13"
  },
  "orig_nbformat": 4
 },
 "nbformat": 4,
 "nbformat_minor": 2
}
