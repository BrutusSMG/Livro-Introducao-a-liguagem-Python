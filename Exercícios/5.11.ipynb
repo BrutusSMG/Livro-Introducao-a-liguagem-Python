{
 "cells": [
  {
   "attachments": {},
   "cell_type": "markdown",
   "metadata": {},
   "source": [
    "### Escreva um programa que pergunte o depósito inicial e a taxa de juros de uma poupança. Exiba os valores mês a mês para os 24 primeiros meses. Escreva o total ganho com juros no período\n",
    "\n",
    "- J = C . i . t\n",
    "- M = C (1 + i) ^ t"
   ]
  },
  {
   "cell_type": "code",
   "execution_count": null,
   "metadata": {},
   "outputs": [],
   "source": [
    "capital = float(input('Informe o depósito inicial: '))\n",
    "taxa = float(input('Informe a taxa de juros a.a: ')) / 100 \n",
    "montante = capital\n",
    "tempo = 24\n",
    "meses = 1\n",
    "juros = 0\n",
    "\n",
    "while meses <= tempo:\n",
    "    juros = montante * taxa\n",
    "    montante += juros    \n",
    "    print(f\"Mês: {meses}\\t Capital: R${montante-juros:5.2f}\\t Juros: {juros:5.2f}\\t Montante: {montante:5.2f}\")\n",
    "    meses+=1\n",
    "    \n",
    "    \n",
    "print(f'\\nCom um capital de R$ {capital:5.2f}, investidos na poupança, após {tempo} meses, teria um montante de R$ {montante:5.2f} e total de juros de R$ {montante - capital:5.2f}')"
   ]
  }
 ],
 "metadata": {
  "kernelspec": {
   "display_name": "base",
   "language": "python",
   "name": "python3"
  },
  "language_info": {
   "codemirror_mode": {
    "name": "ipython",
    "version": 3
   },
   "file_extension": ".py",
   "mimetype": "text/x-python",
   "name": "python",
   "nbconvert_exporter": "python",
   "pygments_lexer": "ipython3",
   "version": "3.9.13"
  },
  "orig_nbformat": 4
 },
 "nbformat": 4,
 "nbformat_minor": 2
}
