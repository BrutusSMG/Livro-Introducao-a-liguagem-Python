{
 "cells": [
  {
   "attachments": {},
   "cell_type": "markdown",
   "metadata": {},
   "source": [
    "#### Faça um programa que percorra duas listas e gere uma terceira sem elementos repetidos"
   ]
  },
  {
   "cell_type": "code",
   "execution_count": null,
   "metadata": {},
   "outputs": [],
   "source": [
    "lista = list(range(1,6))\n",
    "lista2 = list(range(3,8))\n",
    "lista3 = []\n",
    "contador = 0\n",
    "\n",
    "while contador < len(lista):\n",
    "    if lista[contador] not in lista3:\n",
    "        lista3.append(lista[contador])\n",
    "    contador += 1\n",
    "\n",
    "contador = 0\n",
    "while contador < len(lista2):\n",
    "    if lista2[contador] not in lista3:\n",
    "        lista3.append(lista2[contador])\n",
    "    contador += 1\n",
    "\n",
    "print(lista3)"
   ]
  }
 ],
 "metadata": {
  "kernelspec": {
   "display_name": "base",
   "language": "python",
   "name": "python3"
  },
  "language_info": {
   "codemirror_mode": {
    "name": "ipython",
    "version": 3
   },
   "file_extension": ".py",
   "mimetype": "text/x-python",
   "name": "python",
   "nbconvert_exporter": "python",
   "pygments_lexer": "ipython3",
   "version": "3.11.2"
  },
  "orig_nbformat": 4
 },
 "nbformat": 4,
 "nbformat_minor": 2
}
