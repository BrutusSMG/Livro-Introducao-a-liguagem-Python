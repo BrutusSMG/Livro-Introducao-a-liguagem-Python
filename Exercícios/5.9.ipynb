{
 "cells": [
  {
   "attachments": {},
   "cell_type": "markdown",
   "metadata": {},
   "source": [
    "### Escreva um programa que leia dois números. Imprima a divisão inteira do primeiro pelo segundo, assim como o resto da divisão. Utilize apenas os operadores de soma e subtração para calcular o resultado. Lembre-se de que podemos entender o quociente da divisão de dois números como a quantidade de vezes que podemos retirar o divisor do dividendo, Logo 20 / 4 = 5, uma vez que podemos subtrair o 4 cinco vezes de 20."
   ]
  },
  {
   "cell_type": "code",
   "execution_count": null,
   "metadata": {},
   "outputs": [],
   "source": [
    "dividendo = int(input('Informe o primeiro número: '))\n",
    "divisor = int(input('Informe o segundo número: '))\n",
    "resto = dividendo\n",
    "quociente = 0\n",
    "if dividendo < divisor:\n",
    "    print('O primeiro número é menor que o segundo!')\n",
    "else:\n",
    "    while resto >= divisor:\n",
    "        resto -=  divisor\n",
    "        quociente += 1\n",
    "print('A divisão do número', dividendo, 'pelo número', divisor, 'é', quociente, '. Com resto', resto, '.')"
   ]
  }
 ],
 "metadata": {
  "kernelspec": {
   "display_name": "base",
   "language": "python",
   "name": "python3"
  },
  "language_info": {
   "codemirror_mode": {
    "name": "ipython",
    "version": 3
   },
   "file_extension": ".py",
   "mimetype": "text/x-python",
   "name": "python",
   "nbconvert_exporter": "python",
   "pygments_lexer": "ipython3",
   "version": "3.9.13"
  },
  "orig_nbformat": 4,
  "vscode": {
   "interpreter": {
    "hash": "acf59a710bb15caef9757e87caca88365864b9f4181993a80f2144d47d33c8a3"
   }
  }
 },
 "nbformat": 4,
 "nbformat_minor": 2
}
