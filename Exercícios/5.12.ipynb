{
 "cells": [
  {
   "attachments": {},
   "cell_type": "markdown",
   "metadata": {},
   "source": [
    "### Altere o programa anterior de forma a perguntar também o valor depositado mensalmente. Esse valor será depositado no início do mês, e você deve considerá-lo para o cálculo de juros do mês seguinte."
   ]
  },
  {
   "cell_type": "code",
   "execution_count": null,
   "metadata": {},
   "outputs": [],
   "source": [
    "capital = float(input('Informe o depósito inicial: R$ '))\n",
    "taxa = float(input('Informe a taxa de juros a.a: '))\n",
    "aporte = float(input('Informe o aporte mensal: R$ '))\n",
    "montante = capital\n",
    "tempo = 24\n",
    "meses = 1\n",
    "juros = 0\n",
    "\n",
    "while meses <= tempo:\n",
    "    juros = montante * (taxa / 100)\n",
    "    montante += juros    \n",
    "    print(f\"Mês: {meses}\\t Capital: R${montante-juros:5.2f}\\t Juros: {juros:5.2f}\\t Aporte: {aporte}\\tMontante: {montante:5.2f}\")\n",
    "    montante += aporte\n",
    "    meses+=1\n",
    "        \n",
    "print(f'\\nCom um capital de R$ {capital:5.2f}, investidos na poupança, após {tempo} meses, teria um montante de R$ {montante:5.2f} e total de juros de R$ {montante - capital:5.2f}')"
   ]
  }
 ],
 "metadata": {
  "kernelspec": {
   "display_name": "base",
   "language": "python",
   "name": "python3"
  },
  "language_info": {
   "codemirror_mode": {
    "name": "ipython",
    "version": 3
   },
   "file_extension": ".py",
   "mimetype": "text/x-python",
   "name": "python",
   "nbconvert_exporter": "python",
   "pygments_lexer": "ipython3",
   "version": "3.9.13"
  },
  "orig_nbformat": 4
 },
 "nbformat": 4,
 "nbformat_minor": 2
}
