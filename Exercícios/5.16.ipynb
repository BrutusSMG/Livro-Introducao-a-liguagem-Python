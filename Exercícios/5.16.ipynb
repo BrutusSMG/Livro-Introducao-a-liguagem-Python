{
 "cells": [
  {
   "attachments": {},
   "cell_type": "markdown",
   "metadata": {},
   "source": [
    "#### Execute o programa 5.1 para os seguintes valores: 501, 745, 384, 2, 7 e 1"
   ]
  },
  {
   "cell_type": "code",
   "execution_count": 8,
   "metadata": {},
   "outputs": [
    {
     "name": "stdout",
     "output_type": "stream",
     "text": [
      "0 cédula(s) de R$50\n"
     ]
    }
   ],
   "source": [
    "# programa 5.1 - Contagem de cédulas\n",
    "valor = int(input('Digite o valor a pagar: '))\n",
    "cedulas = 0\n",
    "atual = 50\n",
    "a_pagar = valor\n",
    "while True:\n",
    "    if atual <= a_pagar:\n",
    "        a_pagar -= atual\n",
    "        cedulas += 1\n",
    "    else:\n",
    "        print(f'{cedulas} cédula(s) de R${atual}')\n",
    "        if a_pagar == 0:\n",
    "            break\n",
    "        if atual == 50:\n",
    "            atual = 20\n",
    "        elif atual == 20:\n",
    "            atual = 10\n",
    "        elif atual == 10:\n",
    "            atual = 5\n",
    "        elif atual == 5:\n",
    "            atual = 1\n",
    "        cedulas = 0"
   ]
  }
 ],
 "metadata": {
  "kernelspec": {
   "display_name": "base",
   "language": "python",
   "name": "python3"
  },
  "language_info": {
   "codemirror_mode": {
    "name": "ipython",
    "version": 3
   },
   "file_extension": ".py",
   "mimetype": "text/x-python",
   "name": "python",
   "nbconvert_exporter": "python",
   "pygments_lexer": "ipython3",
   "version": "3.9.13"
  },
  "orig_nbformat": 4
 },
 "nbformat": 4,
 "nbformat_minor": 2
}
