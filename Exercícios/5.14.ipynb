{
 "cells": [
  {
   "attachments": {},
   "cell_type": "markdown",
   "metadata": {},
   "source": [
    "### Escreva um um programa que leia números inteiros do teclado. O programa deve ler os números até que o usuário digite 0 (zero). No final da execução, exiba a quantidade de números digitados, assim como a soma e a média aritmética."
   ]
  },
  {
   "cell_type": "code",
   "execution_count": null,
   "metadata": {},
   "outputs": [],
   "source": [
    "quantidade_digitado = 0\n",
    "soma = 0\n",
    "media = 0\n",
    "\n",
    "while True:\n",
    "    numero_digitado = int(input('Digite um número inteiro ou 0 (zero) para finalizar: '))\n",
    "    if numero_digitado == 0:\n",
    "        break\n",
    "    else:        \n",
    "        quantidade_digitado += 1\n",
    "        soma += numero_digitado\n",
    "        media = soma / quantidade_digitado\n",
    "print(f\"\"\"\n",
    "Quantidade de números digitados: {quantidade_digitado}\n",
    "A soma deles: {soma}\n",
    "A média: {media}\n",
    "\"\"\")"
   ]
  }
 ],
 "metadata": {
  "kernelspec": {
   "display_name": "base",
   "language": "python",
   "name": "python3"
  },
  "language_info": {
   "codemirror_mode": {
    "name": "ipython",
    "version": 3
   },
   "file_extension": ".py",
   "mimetype": "text/x-python",
   "name": "python",
   "nbconvert_exporter": "python",
   "pygments_lexer": "ipython3",
   "version": "3.9.13"
  },
  "orig_nbformat": 4
 },
 "nbformat": 4,
 "nbformat_minor": 2
}
