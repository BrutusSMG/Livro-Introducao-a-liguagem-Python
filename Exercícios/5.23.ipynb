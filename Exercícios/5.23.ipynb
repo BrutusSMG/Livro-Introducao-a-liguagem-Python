{
 "cells": [
  {
   "attachments": {},
   "cell_type": "markdown",
   "metadata": {},
   "source": [
    "#### Escreva um programa que leia um número e verifique se é ou não um número primo. Para fazer essa verificação, calcule o resto da divisão do número por 2 e depois por todos os números ímpares até o número lido. Se o resto de uma dessas divisões for igual a zero, o número não é primo. Observe que 0 e 1 não são primos e que 2 é o único número primo que é par."
   ]
  },
  {
   "cell_type": "code",
   "execution_count": 27,
   "metadata": {},
   "outputs": [
    {
     "name": "stdout",
     "output_type": "stream",
     "text": [
      "O número 17 é primo\n"
     ]
    }
   ],
   "source": [
    "numero = int(input('Informe um número para verificar se é um número primo: '))\n",
    "divisores = 0\n",
    "if numero < 0:\n",
    "    print('Informe um número maior que 0.')\n",
    "elif numero == 0 or numero == 1:\n",
    "    print(f'O número {numero} não é primo')\n",
    "elif numero == 2:\n",
    "    print(f'O número {numero} é primo')\n",
    "else:\n",
    "    teste = 1\n",
    "    while teste <= numero:\n",
    "        if numero % teste == 0:\n",
    "            divisores += 1\n",
    "        teste += 1\n",
    "    if divisores == 2:\n",
    "        print(f'O número {numero} é primo')\n",
    "    else:\n",
    "        print(f'O número {numero} não é primo.')"
   ]
  }
 ],
 "metadata": {
  "kernelspec": {
   "display_name": "Python 3",
   "language": "python",
   "name": "python3"
  },
  "language_info": {
   "codemirror_mode": {
    "name": "ipython",
    "version": 3
   },
   "file_extension": ".py",
   "mimetype": "text/x-python",
   "name": "python",
   "nbconvert_exporter": "python",
   "pygments_lexer": "ipython3",
   "version": "3.11.2"
  },
  "orig_nbformat": 4
 },
 "nbformat": 4,
 "nbformat_minor": 2
}
