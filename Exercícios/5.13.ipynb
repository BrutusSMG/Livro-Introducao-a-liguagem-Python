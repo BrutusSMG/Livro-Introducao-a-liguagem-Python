{
 "cells": [
  {
   "attachments": {},
   "cell_type": "markdown",
   "metadata": {},
   "source": [
    "### Escreva um programa que pergunte o valor inicial de uma dívida e o juros mensal. Pergunte também o valor mensal que será pago. Imprima o número de meses para que a dívida seja paga, o total pago e o total de juros pago."
   ]
  },
  {
   "cell_type": "code",
   "execution_count": null,
   "metadata": {},
   "outputs": [],
   "source": [
    "divida = float(input('Informe o valor da dívida: R$ '))\n",
    "taxa = float(input('Informe o juros mensal: '))\n",
    "pagamento = float(input('Informe o valor da parcela: R$ '))\n",
    "print(f'Dívida inicial: R$ {divida:.2f}\\t Juros mensal: {taxa}%\\t Pagamento mensal: R$ {pagamento:.2f}\\n')\n",
    "juros = divida * taxa / 100\n",
    "saldo = divida + juros\n",
    "meses = 1\n",
    "total_pago = 0\n",
    "juros_total = 0\n",
    "if juros >= pagamento:\n",
    "    print('É preciso aumentar o valor do pagamento mensal.')\n",
    "else:\n",
    "    while saldo > 0:\n",
    "        if pagamento <= saldo:\n",
    "            juros_total += juros\n",
    "            total_pago += pagamento\n",
    "            print(f'{meses}° mês\\t Juros: R$ {juros:.2f}\\t Saldo: R$ {saldo:.2f}\\t Pagamento mensal: R$ {pagamento:.2f}')\n",
    "            saldo = saldo - pagamento\n",
    "            juros = saldo * taxa / 100\n",
    "            saldo = saldo + juros\n",
    "            meses += 1\n",
    "        else:\n",
    "            pagamento = saldo\n",
    "    print(f'\\nA dívida será paga em {meses - 1} meses, com total de juros de R$ {juros_total:.2f} e somando um total de R$ {total_pago:.2f} .')"
   ]
  }
 ],
 "metadata": {
  "kernelspec": {
   "display_name": "base",
   "language": "python",
   "name": "python3"
  },
  "language_info": {
   "codemirror_mode": {
    "name": "ipython",
    "version": 3
   },
   "file_extension": ".py",
   "mimetype": "text/x-python",
   "name": "python",
   "nbconvert_exporter": "python",
   "pygments_lexer": "ipython3",
   "version": "3.9.13"
  },
  "orig_nbformat": 4
 },
 "nbformat": 4,
 "nbformat_minor": 2
}
